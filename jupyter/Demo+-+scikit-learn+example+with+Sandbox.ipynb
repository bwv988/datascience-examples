{
 "cells": [
  {
   "cell_type": "markdown",
   "metadata": {},
   "source": [
    "# Data Science Sandbox example with `scikit-learn`\n",
    "[ralph.schlosser@gmail.com](ralph.schlosser@gmail.com)\n",
    "\n",
    "## Introduction\n",
    "\n",
    "Here is a short test with `scikit-learn` in Python.\n",
    "\n",
    "We are applying various ML algorithms to the digits data set."
   ]
  },
  {
   "cell_type": "code",
   "execution_count": 8,
   "metadata": {
    "collapsed": false
   },
   "outputs": [
    {
     "name": "stdout",
     "output_type": "stream",
     "text": [
      "(array([7]), array([3]))\n",
      "3    92\n",
      "5    91\n",
      "2    91\n",
      "1    91\n",
      "7    90\n",
      "6    90\n",
      "0    90\n",
      "4    89\n",
      "9    88\n",
      "8    86\n",
      "dtype: int64\n",
      "Linear SVC - score: 0.884444444444\n",
      "kNN - score: 0.953333333333\n",
      "Random Forest Classifier - score: 0.88\n",
      "kNN\n",
      "0 0.968819599109\n",
      "Random Forest\n",
      "4 0.946547884187\n",
      "SVM\n",
      "0 0.953229398664\n",
      "0.968819599109 0.946547884187 0.942093541203\n"
     ]
    },
    {
     "data": {
      "text/plain": [
       "<matplotlib.figure.Figure at 0x7f804fc2ad10>"
      ]
     },
     "metadata": {},
     "output_type": "display_data"
    },
    {
     "data": {
      "image/png": "[encoded data removed]",
      "text/plain": [
       "<matplotlib.figure.Figure at 0x7f804fc2a790>"
      ]
     },
     "metadata": {},
     "output_type": "display_data"
    },
    {
     "data": {
      "image/png": "[encoded data removed]",
      "text/plain": [
       "<matplotlib.figure.Figure at 0x7f8057978e10>"
      ]
     },
     "metadata": {},
     "output_type": "display_data"
    },
    {
     "data": {
      "text/plain": [
       "<matplotlib.figure.Figure at 0x7f8057977dd0>"
      ]
     },
     "metadata": {},
     "output_type": "display_data"
    },
    {
     "data": {
      "image/png": "[encoded data removed]",
      "text/plain": [
       "<matplotlib.figure.Figure at 0x7f804f987a50>"
      ]
     },
     "metadata": {},
     "output_type": "display_data"
    }
   ],
   "source": [
    "# First some imports.\n",
    "from sklearn import datasets\n",
    "from pandas import Series, DataFrame\n",
    "import pandas as pd\n",
    "import numpy as np\n",
    "import matplotlib.pyplot as plt\n",
    "\n",
    "# Load digits data set.\n",
    "digits = datasets.load_digits()\n",
    "\n",
    "\n",
    "# Some exploratory plots.\n",
    "choose_row = 100\n",
    "plt.gray() \n",
    "plt.matshow(digits.images[choose_row]) \n",
    "plt.title(digits.target[choose_row])\n",
    "\n",
    "choose_row = 0\n",
    "plt.gray() \n",
    "plt.matshow(digits.images[choose_row]) \n",
    "plt.title(digits.target[choose_row])\n",
    "\n",
    "## Plot\n",
    "fig = plt.figure()\n",
    "plt.gray() \n",
    "mm = digits.images.sum(axis = 0) / float(len(digits.images))\n",
    "plt.matshow(mm) \n",
    "\n",
    "## What is the most used pixel.\n",
    "most = np.sum(digits.images, axis = 0)\n",
    "print np.where(most == np.max(most))\n",
    "\n",
    "## Alternative (bad) solution. :)\n",
    "max_int = 0.0\n",
    "maxx = 0\n",
    "maxy = 0\n",
    "for x in range(0, 8):\n",
    "    for y in range(0, 8):            \n",
    "        intensities = [i[x, y] for i in digits.images]\n",
    "        if np.sum(intensities) > max_int:\n",
    "            maxx = x\n",
    "            maxy = y\n",
    "            max_int = np.sum(intensities)\n",
    "\n",
    "\n",
    "#\n",
    "# Split data into test / training set.\n",
    "#\n",
    "n_samples = len(digits.target)\n",
    "train_set = range(0,int(0.5*n_samples))\n",
    "val_set = range(int(0.5*n_samples),int(0.75*n_samples))\n",
    "test_set = range(int(0.75*n_samples),n_samples)\n",
    "X_train = DataFrame(digits.data[train_set])\n",
    "y_train = Series(digits.target[train_set])\n",
    "X_val = DataFrame(digits.data[val_set])\n",
    "y_val = Series(digits.target[val_set])\n",
    "X_test = DataFrame(digits.data[test_set])\n",
    "y_test = Series(digits.target[test_set])\n",
    "\n",
    "print y_train.value_counts()\n",
    "\n",
    "# Import Machine Learning algos.\n",
    "from sklearn.svm import LinearSVC\n",
    "from sklearn.neighbors import KNeighborsClassifier\n",
    "from sklearn.ensemble import RandomForestClassifier\n",
    "\n",
    "def print_score(algo, cl):\n",
    "    cl.fit(X_train, y_train)\n",
    "    print algo + \" - score: \" + str(cl.score(X_test, y_test))\n",
    "\n",
    "print_score(\"Linear SVC\", LinearSVC())\n",
    "print_score(\"kNN\", KNeighborsClassifier())\n",
    "print_score(\"Random Forest Classifier\", RandomForestClassifier())\n",
    "\n",
    "# Show best score per algo.\n",
    "def get_best_score(scores):\n",
    "    return np.where(scores == np.max(scores))[0][0]\n",
    "\n",
    "print \"kNN\"\n",
    "kvals = range(1, 11)\n",
    "knn_scores = [KNeighborsClassifier(n_neighbors=kval).fit(X_train,y_train).score(X_val,y_val) for kval in kvals]\n",
    "\n",
    "print get_best_score(knn_scores), knn_scores[get_best_score(knn_scores)]\n",
    "\n",
    "print \"Random Forest\"\n",
    "kvals = range(5, 35, 5)\n",
    "rf_scores = [RandomForestClassifier(n_estimators=kval, random_state=123).fit(X_train,y_train).score(X_val,y_val) for kval in kvals]\n",
    "\n",
    "print get_best_score(rf_scores), rf_scores[get_best_score(rf_scores)]\n",
    "\n",
    "print \"SVM\"\n",
    "kvals = [0.001, 0.01, 0.1, 1, 10, 100]\n",
    "svm_scores = [LinearSVC(C=kval).fit(X_train,y_train).score(X_val,y_val) for kval in kvals]\n",
    "\n",
    "print get_best_score(svm_scores), svm_scores[get_best_score(svm_scores)]\n",
    "\n",
    "best_knn = KNeighborsClassifier(n_neighbors=1).fit(X_train,y_train).score(X_val,y_val)\n",
    "best_rf = RandomForestClassifier(n_estimators=25, random_state=123).fit(X_train,y_train).score(X_val,y_val)\n",
    "best_svn = LinearSVC(C=0.01).fit(X_train, y_train).score(X_val,y_val)\n",
    "\n",
    "print best_knn, best_rf, best_svn\n",
    "# ANS: knn"
   ]
  }
 ],
 "metadata": {
  "kernelspec": {
   "display_name": "Python 2",
   "language": "python",
   "name": "python2"
  },
  "language_info": {
   "codemirror_mode": {
    "name": "ipython",
    "version": 2
   },
   "file_extension": ".py",
   "mimetype": "text/x-python",
   "name": "python",
   "nbconvert_exporter": "python",
   "pygments_lexer": "ipython2",
   "version": "2.7.12"
  }
 },
 "nbformat": 4,
 "nbformat_minor": 1
}
